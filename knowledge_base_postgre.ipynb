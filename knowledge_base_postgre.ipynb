{
 "cells": [
  {
   "cell_type": "markdown",
   "metadata": {},
   "source": [
    "Run the following command in the terminal to install postgres and psql on this Cloud9 instance."
   ]
  },
  {
   "cell_type": "code",
   "execution_count": null,
   "metadata": {},
   "outputs": [],
   "source": [
    "# sudo amazon-linux-extras enable postgresql12\n",
    "# sudo yum clean metadata\n",
    "# sudo yum install postgresql\n",
    "# psql --version\n"
   ]
  },
  {
   "cell_type": "markdown",
   "metadata": {},
   "source": [
    "Now, run the below command to set the required environment variables."
   ]
  },
  {
   "cell_type": "code",
   "execution_count": null,
   "metadata": {},
   "outputs": [],
   "source": [
    "# ROLE_ARN=$(aws cloudformation describe-stacks \\\n",
    "#   --stack-name 'using-genai-for-private-files-workshop' \\\n",
    "#   --query 'Stacks[0].Outputs[?OutputKey==`AmazonBedrockExecutionRoleARN`].OutputValue' \\\n",
    "#   --output text)\n",
    "# echo $ROLE_ARN\n",
    "# REGION=$(aws configure get region)\n",
    "# echo $REGION\n",
    "# Aurora_Cluster_Writer_Endpoint=$(aws cloudformation describe-stacks \\\n",
    "#   --stack-name 'using-genai-for-private-files-workshop' \\\n",
    "#   --query 'Stacks[0].Outputs[?OutputKey==`AuroraDBWriterEndpoint`].OutputValue' \\\n",
    "#   --output text)\n",
    "# echo $Aurora_Cluster_Writer_Endpoint\n",
    "# Aurora_Cluster_Arn=$(aws cloudformation describe-stacks \\\n",
    "#   --stack-name 'using-genai-for-private-files-workshop' \\\n",
    "#   --query 'Stacks[0].Outputs[?OutputKey==`AuroraDBClusterARN`].OutputValue' \\\n",
    "#   --output text)\n",
    "# echo $Aurora_Cluster_Arn\n",
    "# Postgres_Bucket_Name=$(aws cloudformation describe-stacks \\\n",
    "#   --stack-name 'using-genai-for-private-files-workshop' \\\n",
    "#   --query 'Stacks[0].Outputs[?OutputKey==`WorkshopPostgreS3BucketName`].OutputValue' \\\n",
    "#   --output text)\n",
    "# echo $Postgres_Bucket_Name\n",
    "# Postgres_Bucket_Arn=$(aws cloudformation describe-stacks \\\n",
    "#   --stack-name 'using-genai-for-private-files-workshop' \\\n",
    "#   --query 'Stacks[0].Outputs[?OutputKey==`WorkshopPostgreS3BucketARN`].OutputValue' \\\n",
    "#   --output text)\n",
    "# echo $Postgres_Bucket_Arn\n",
    "# DB_Password=$(aws secretsmanager get-secret-value --secret-id postgres_vectors_secrets --query SecretString --output text | jq -r .password)\n",
    "# echo \"DB_Password: $DB_Password\"\n"
   ]
  },
  {
   "cell_type": "markdown",
   "metadata": {},
   "source": [
    "Use the following command in the terminal to connect to the DB cluster and use the use the password printed in the terminal above."
   ]
  },
  {
   "cell_type": "markdown",
   "metadata": {},
   "source": [
    "<!-- psql -h $Aurora_Cluster_Writer_Endpoint -d postgres -U workshopUser -p 3306 -->\n"
   ]
  },
  {
   "cell_type": "markdown",
   "metadata": {},
   "source": [
    "To create an extension named \"vector\" in a PostgreSQL database, run the following command in Cloud9 terminal."
   ]
  },
  {
   "cell_type": "markdown",
   "metadata": {},
   "source": [
    "<!-- CREATE EXTENSION IF NOT EXISTS vector; -->\n"
   ]
  },
  {
   "cell_type": "markdown",
   "metadata": {},
   "source": [
    "Use the following command to retrieve the version number of the installed 'vector' extension in a PostgreSQL database."
   ]
  },
  {
   "cell_type": "code",
   "execution_count": null,
   "metadata": {},
   "outputs": [],
   "source": [
    "# SELECT extversion FROM pg_extension WHERE extname='vector';\n"
   ]
  },
  {
   "cell_type": "markdown",
   "metadata": {},
   "source": [
    "<!-- SELECT extversion FROM pg_extension WHERE extname='vector'; -->\n"
   ]
  },
  {
   "cell_type": "markdown",
   "metadata": {},
   "source": [
    "Run the following command in Cloud9 terminal to create a new schema named bedrock_integration in a PostgreSQL database."
   ]
  },
  {
   "cell_type": "code",
   "execution_count": null,
   "metadata": {},
   "outputs": [],
   "source": [
    "# CREATE SCHEMA bedrock_integration;\n"
   ]
  },
  {
   "cell_type": "markdown",
   "metadata": {},
   "source": [
    "<!-- CREATE SCHEMA bedrock_integration; -->\n"
   ]
  },
  {
   "cell_type": "markdown",
   "metadata": {},
   "source": [
    "In the Cloud9 terminal, enter the following command to create a new user and grant required permissions"
   ]
  },
  {
   "cell_type": "markdown",
   "metadata": {},
   "source": [
    "<!-- CREATE ROLE bedrock_user WITH PASSWORD 'workshoppassword@1' LOGIN;\n",
    "GRANT ALL ON SCHEMA bedrock_integration to bedrock_user; -->\n"
   ]
  },
  {
   "cell_type": "markdown",
   "metadata": {},
   "source": [
    "Then log in using the new user and password you just created."
   ]
  },
  {
   "cell_type": "markdown",
   "metadata": {},
   "source": [
    "<!-- \\q \n",
    "psql -h $Aurora_Cluster_Writer_Endpoint -d postgres -U bedrock_user -p 3306 -->\n"
   ]
  },
  {
   "cell_type": "markdown",
   "metadata": {},
   "source": [
    "Now, create a table with the right schema using the below command in the Cloud9 terminal."
   ]
  },
  {
   "cell_type": "markdown",
   "metadata": {},
   "source": [
    "<!-- CREATE TABLE bedrock_integration.bedrock_kb (id uuid PRIMARY KEY, embedding vector(1536), chunks text, metadata json); -->\n"
   ]
  },
  {
   "cell_type": "markdown",
   "metadata": {},
   "source": [
    "Create an index named bedrock_kb on the embedding column of a table within the bedrock_integration schema, using the vector_cosine_ops operator class in PostgreSQL"
   ]
  },
  {
   "cell_type": "markdown",
   "metadata": {},
   "source": [
    "<!-- CREATE INDEX on bedrock_integration.bedrock_kb USING hnsw (embedding vector_cosine_ops);\n",
    "\\q -->\n"
   ]
  },
  {
   "cell_type": "markdown",
   "metadata": {},
   "source": [
    "Add the secrets to secrets manager\n",
    "Go to the AWS Secrets Manager Console \n",
    "Click the button Store a new secret\n",
    "Select secret type as Credentials for Amazon RDS database\n",
    "Provide the username bedrock_user and password workshoppassword@1\n",
    "Under Database, select workshopdbcluster\n",
    "Click Next and provide secret name postgres_kb_secret\n",
    "Click Next > Next > Store"
   ]
  },
  {
   "cell_type": "markdown",
   "metadata": {},
   "source": [
    "To retrieve the ARN of the secrets you created above, use the following command in your Cloud9 terminal."
   ]
  },
  {
   "cell_type": "markdown",
   "metadata": {},
   "source": [
    "<!-- SECRET_ARN=$(aws secretsmanager list-secrets --query 'SecretList[?Name==`postgres_kb_secret`].ARN' --output text)\n",
    "echo $SECRET_ARN -->\n"
   ]
  },
  {
   "cell_type": "markdown",
   "metadata": {},
   "source": [
    "To create knowledge base in Amazon Bedrock, use the following command in Cloud9 terminal."
   ]
  },
  {
   "cell_type": "markdown",
   "metadata": {},
   "source": [
    "<!-- Knowledge_Base_Id=$(aws bedrock-agent create-knowledge-base \\\n",
    "  --name workshop-aurora-knowledge-base \\\n",
    "  --role-arn $ROLE_ARN \\\n",
    "  --knowledge-base-configuration 'type=VECTOR,vectorKnowledgeBaseConfiguration={embeddingModelArn=\"arn:aws:bedrock:'\"$REGION\"'::foundation-model/amazon.titan-embed-text-v1\"}' \\\n",
    "  --storage-configuration 'type=RDS,rdsConfiguration={resourceArn='\"$Aurora_Cluster_Arn\"',credentialsSecretArn='\"$SECRET_ARN\"',databaseName=postgres,tableName=bedrock_integration.bedrock_kb,fieldMapping={primaryKeyField=id,vectorField=embedding,textField=chunks,metadataField=metadata}}'\\\n",
    "  | jq -r '.knowledgeBase.knowledgeBaseId')\n",
    "  echo $Knowledge_Base_Id -->\n"
   ]
  },
  {
   "cell_type": "markdown",
   "metadata": {},
   "source": [
    "Follow the steps below to add a secret value in secrets manager\n",
    "\n",
    "Go to the AWS Secrets Manager Console \n",
    "Click on postgres_vectors_secrets secret\n",
    "Under Secret value click Retrieve secret value\n",
    "Then, click Edit\n",
    "Click + Add row\n",
    "For key type KNOWLEDGE_BASE_ID and for the value paste the value of KNOWLEDGE_BASE_ID printed in the terminal above\n",
    "Click Save"
   ]
  },
  {
   "cell_type": "markdown",
   "metadata": {},
   "source": [
    "To create a data store within the knowledge base, use the following command in Cloud9 terminal.\n",
    "\n"
   ]
  },
  {
   "cell_type": "markdown",
   "metadata": {},
   "source": [
    "<!-- Data_Source_Id=$(aws bedrock-agent create-data-source \\\n",
    "  --knowledge-base-id $Knowledge_Base_Id \\\n",
    "  --name workshop-aurora-kb-data-source \\\n",
    "  --data-source-configuration \"type=S3,s3Configuration={bucketArn='\"$Postgres_Bucket_Arn\"'}\" \\\n",
    "  --vector-ingestion-configuration \"chunkingConfiguration={chunkingStrategy=NONE}\" \\\n",
    "  | jq -r '.dataSource.dataSourceId')\n",
    "echo $Data_Source_Id -->\n"
   ]
  },
  {
   "cell_type": "markdown",
   "metadata": {},
   "source": [
    "In the Cloud9 terminal, run the following command to download the dataset using LangChain wikipedia retriever."
   ]
  },
  {
   "cell_type": "markdown",
   "metadata": {},
   "source": [
    "<!-- python download_dataset.py -->\n"
   ]
  },
  {
   "cell_type": "markdown",
   "metadata": {},
   "source": [
    "In the Cloud9 terminal, run the following command to upload a dataset to Amazon S3."
   ]
  },
  {
   "cell_type": "markdown",
   "metadata": {},
   "source": [
    "<!-- aws s3 cp ./docs s3://${Postgres_Bucket_Name}/ --recursive -->\n"
   ]
  },
  {
   "cell_type": "markdown",
   "metadata": {},
   "source": [
    "In the Cloud9 terminal, run the following command to sync data in knowledge-base"
   ]
  },
  {
   "cell_type": "markdown",
   "metadata": {},
   "source": [
    "<!-- aws bedrock-agent start-ingestion-job --knowledge-base-id $Knowledge_Base_Id --data-source-id $Data_Source_Id -->\n"
   ]
  },
  {
   "cell_type": "markdown",
   "metadata": {},
   "source": [
    "In the Cloud9 terminal, enter the following command to run the Streamlit app.\n"
   ]
  },
  {
   "cell_type": "markdown",
   "metadata": {},
   "source": [
    "<!-- streamlit run app.py -->\n"
   ]
  },
  {
   "cell_type": "markdown",
   "metadata": {},
   "source": [
    "The output will display two IP addressess. Open the endpoint with the External IP address."
   ]
  },
  {
   "cell_type": "markdown",
   "metadata": {},
   "source": []
  }
 ],
 "metadata": {
  "language_info": {
   "name": "python"
  }
 },
 "nbformat": 4,
 "nbformat_minor": 2
}
