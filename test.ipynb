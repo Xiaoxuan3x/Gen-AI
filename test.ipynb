{
 "cells": [
  {
   "cell_type": "code",
   "execution_count": null,
   "metadata": {},
   "outputs": [],
   "source": []
  },
  {
   "cell_type": "markdown",
   "metadata": {},
   "source": [
    "Run the following command to create a knowledge base. Knowledge base for Amazon Bedrock provides you the capability of amassing data sources into a repository of information. With knowledge bases, you can easily build an application that takes advantage of retrieval augmented generation (RAG), a technique in which the retrieval of information from data sources augments the generation of model responses. Once set up, you can take advantage of a knowledge base in the following ways."
   ]
  },
  {
   "cell_type": "code",
   "execution_count": null,
   "metadata": {},
   "outputs": [],
   "source": [
    "# KNOWLEDGE_BASE_ID=$(aws bedrock-agent create-knowledge-base \\\n",
    "#   --name workshop-aoss-knowledge-base \\\n",
    "#   --role-arn $ROLE_ARN \\\n",
    "#   --knowledge-base-configuration 'type=VECTOR,vectorKnowledgeBaseConfiguration={embeddingModelArn=\"arn:aws:bedrock:'${REGION}'::foundation-model/amazon.titan-embed-text-v1\"}' \\\n",
    "#   --storage-configuration \"type=OPENSEARCH_SERVERLESS,opensearchServerlessConfiguration={collectionArn='${OPENSEARCH_COLLECTION_ARN}',vectorIndexName='workshop_index',fieldMapping={vectorField='documentid',textField='workshop-data',metadataField='workshop-metadata'}}\" \\\n",
    "#   | jq -r '.knowledgeBase.knowledgeBaseId')\n",
    "# echo $KNOWLEDGE_BASE_ID\n"
   ]
  },
  {
   "cell_type": "markdown",
   "metadata": {},
   "source": [
    "<!-- KNOWLEDGE_BASE_ID=$(aws bedrock-agent create-knowledge-base \\\n",
    "  --name workshop-aoss-knowledge-base \\\n",
    "  --role-arn $ROLE_ARN \\\n",
    "  --knowledge-base-configuration 'type=VECTOR,vectorKnowledgeBaseConfiguration={embeddingModelArn=\"arn:aws:bedrock:'${REGION}'::foundation-model/amazon.titan-embed-text-v1\"}' \\\n",
    "  --storage-configuration \"type=OPENSEARCH_SERVERLESS,opensearchServerlessConfiguration={collectionArn='${OPENSEARCH_COLLECTION_ARN}',vectorIndexName='workshop_index',fieldMapping={vectorField='documentid',textField='workshop-data',metadataField='workshop-metadata'}}\" \\\n",
    "  | jq -r '.knowledgeBase.knowledgeBaseId')\n",
    "echo $KNOWLEDGE_BASE_ID -->\n"
   ]
  },
  {
   "cell_type": "markdown",
   "metadata": {},
   "source": [
    "Follow the steps below to add a secret value in secrets manager\n",
    "\n",
    "Go to the AWS Secrets Manager Console \n",
    "Click on opensearch_serverless_secrets secret\n",
    "Under Secret value click Retrieve secret value\n",
    "Then, click Edit\n",
    "Click + Add row\n",
    "For key type KNOWLEDGE_BASE_ID and for the value paste the value of KNOWLEDGE_BASE_ID printed in the terminal above\n",
    "Click Save"
   ]
  },
  {
   "cell_type": "markdown",
   "metadata": {},
   "source": [
    "<!-- KNOWLEDGE_BASE_ID=$(aws bedrock-agent create-knowledge-base \\\n",
    "  --name workshop-aoss-knowledge-base \\\n",
    "  --role-arn $ROLE_ARN \\\n",
    "  --knowledge-base-configuration 'type=VECTOR,vectorKnowledgeBaseConfiguration={embeddingModelArn=\"arn:aws:bedrock:'${REGION}'::foundation-model/amazon.titan-embed-text-v1\"}' \\\n",
    "  --storage-configuration \"type=OPENSEARCH_SERVERLESS,opensearchServerlessConfiguration={collectionArn='${OPENSEARCH_COLLECTION_ARN}',vectorIndexName='workshop_index',fieldMapping={vectorField='documentid',textField='workshop-data',metadataField='workshop-metadata'}}\" \\\n",
    "  | jq -r '.knowledgeBase.knowledgeBaseId')\n",
    "echo $KNOWLEDGE_BASE_ID -->\n"
   ]
  },
  {
   "cell_type": "markdown",
   "metadata": {},
   "source": [
    "After you create knowledge base, you ingest the data sources into knowledge base so that they are indexed and able to be queried. Run the following command to create data source for the knowledge base. Data source helps connect your raw documents in Amazon S3 bucket to the knowledge base."
   ]
  },
  {
   "cell_type": "code",
   "execution_count": null,
   "metadata": {},
   "outputs": [],
   "source": [
    "# aws bedrock-agent create-data-source \\\n",
    "#   --knowledge-base-id $KNOWLEDGE_BASE_ID \\\n",
    "#   --name workshop-kb-data-source \\\n",
    "#   --data-source-configuration \"type=S3,s3Configuration={bucketArn=${OPENSEARCH_S3_BUCKET_ARN}}\"\n",
    "# DATA_SOURCE_ID=$(aws bedrock-agent list-data-sources --knowledge-base-id $KNOWLEDGE_BASE_ID | jq -r '.dataSourceSummaries[0].dataSourceId')\n",
    "# echo $DATA_SOURCE_ID\n"
   ]
  },
  {
   "cell_type": "code",
   "execution_count": null,
   "metadata": {},
   "outputs": [],
   "source": [
    "# aws bedrock-agent create-data-source \\\n",
    "#   --knowledge-base-id $KNOWLEDGE_BASE_ID \\\n",
    "#   --name workshop-kb-data-source \\\n",
    "#   --data-source-configuration \"type=S3,s3Configuration={bucketArn=${OPENSEARCH_S3_BUCKET_ARN}}\"\n",
    "# DATA_SOURCE_ID=$(aws bedrock-agent list-data-sources --knowledge-base-id $KNOWLEDGE_BASE_ID | jq -r '.dataSourceSummaries[0].dataSourceId')\n",
    "# echo $DATA_SOURCE_ID\n"
   ]
  },
  {
   "cell_type": "markdown",
   "metadata": {},
   "source": [
    "In the Cloud9 terminal, run the following command to upload a dataset to Amazon S3."
   ]
  },
  {
   "cell_type": "markdown",
   "metadata": {},
   "source": [
    "<!-- aws s3 cp ./docs s3://${OpenSearch_BUCKET_NAME}/ --recursive -->\n"
   ]
  },
  {
   "cell_type": "markdown",
   "metadata": {},
   "source": [
    "In the Cloud9 terminal, run the following command to sync data in knowledge-base"
   ]
  },
  {
   "cell_type": "code",
   "execution_count": null,
   "metadata": {},
   "outputs": [],
   "source": [
    "# <!-- aws bedrock-agent start-ingestion-job --knowledge-base-id $KNOWLEDGE_BASE_ID --data-source-id $DATA_SOURCE_ID -->\n"
   ]
  },
  {
   "cell_type": "markdown",
   "metadata": {},
   "source": [
    "In the Cloud9 terminal, enter the following command to run the Streamlit app.\n"
   ]
  },
  {
   "cell_type": "code",
   "execution_count": null,
   "metadata": {},
   "outputs": [],
   "source": [
    "# streamlit run app.py"
   ]
  },
  {
   "cell_type": "markdown",
   "metadata": {},
   "source": [
    "<!-- streamlit run app.py -->"
   ]
  },
  {
   "cell_type": "markdown",
   "metadata": {},
   "source": []
  }
 ],
 "metadata": {
  "language_info": {
   "name": "python"
  }
 },
 "nbformat": 4,
 "nbformat_minor": 2
}
