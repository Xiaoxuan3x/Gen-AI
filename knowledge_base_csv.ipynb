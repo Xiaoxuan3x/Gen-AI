{
 "cells": [
  {
   "cell_type": "markdown",
   "metadata": {},
   "source": [
    "In the Cloud9 terminal, enter the following command to go to the stream11_working_with_csv_files directory."
   ]
  },
  {
   "cell_type": "code",
   "execution_count": null,
   "metadata": {},
   "outputs": [],
   "source": [
    "# cd ~/environment/stream11_working_with_csv_files\n"
   ]
  },
  {
   "cell_type": "markdown",
   "metadata": {},
   "source": [
    "To download required dependencies for the application, run the following command in the terminal.\n"
   ]
  },
  {
   "cell_type": "markdown",
   "metadata": {},
   "source": [
    "<!-- python3.9 -m pip install -r requirements.txt --upgrade -->\n"
   ]
  },
  {
   "cell_type": "markdown",
   "metadata": {},
   "source": [
    "In the Cloud9 environment, from the folder stream11_working_with_csv_files/SampleData, open the claimdata.csv file and review its content."
   ]
  },
  {
   "cell_type": "markdown",
   "metadata": {},
   "source": [
    "Copy the following code in the print_dataframe.py file."
   ]
  },
  {
   "cell_type": "code",
   "execution_count": null,
   "metadata": {},
   "outputs": [],
   "source": [
    "# import pandas as pd\n",
    "\n",
    "# # Load the CSV file\n",
    "# df = pd.read_csv('SampleData/claimdata.csv')\n",
    "\n",
    "# # Print the first 5 rows\n",
    "# print(df.head())\n"
   ]
  },
  {
   "cell_type": "markdown",
   "metadata": {},
   "source": [
    "Run the below command in the Cloud9 terminal."
   ]
  },
  {
   "cell_type": "markdown",
   "metadata": {},
   "source": [
    "<!-- python print_dataframe.py -->\n"
   ]
  },
  {
   "cell_type": "markdown",
   "metadata": {},
   "source": [
    "In the Cloud9 environment, copy the following code in app.py file.\n",
    "\n",
    "The code snippet demonstrates the creation of a Q&A chatbot using Streamlit application for the user interface, to chat with CSV file and Amazon Bedrock to interact with the language model."
   ]
  },
  {
   "cell_type": "code",
   "execution_count": null,
   "metadata": {},
   "outputs": [],
   "source": [
    "import streamlit as st\n",
    "import boto3\n",
    "import json\n",
    "import os\n",
    "from querycsv import query_csv\n",
    "\n",
    "# CSS for the chat interface and responses\n",
    "st.markdown('''\n",
    "<style>\n",
    ".chat-message {padding: 1.5rem; border-radius: 0.5rem; margin-bottom: 1rem; display: flex}\n",
    ".chat-message.user {background-color: #2b313e}\n",
    ".chat-message.bot {background-color: #475063}\n",
    ".chat-message .avatar {width: 20%}\n",
    ".chat-message .avatar img {max-width: 78px; max-height: 78px; border-radius: 50%; object-fit: cover}\n",
    ".chat-message .message {width: 80%; padding: 0 1.5rem; color: #fff}\n",
    ".response, .url {padding: 1rem; border-radius: 0.5rem; margin-bottom: 1rem;}\n",
    "</style>\n",
    "''', unsafe_allow_html=True)\n",
    "\n",
    "# Message templates\n",
    "bot_template = '''\n",
    "<div class=\"chat-message bot\">\n",
    "    <div class=\"avatar\">\n",
    "        <img src=\"https://i.ibb.co/cN0nmSj/Screenshot-2023-05-28-at-02-37-21.png\">\n",
    "    </div>\n",
    "    <div class=\"message\">{{MSG}}</div>\n",
    "</div>\n",
    "'''\n",
    "\n",
    "user_template = '''\n",
    "<div class=\"chat-message user\">\n",
    "    <div class=\"avatar\">\n",
    "        <img src=\"https://i.ibb.co/wRtZstJ/Aurora.png\">\n",
    "    </div>    \n",
    "    <div class=\"message\">{{MSG}}</div>\n",
    "</div>\n",
    "'''\n",
    "\n",
    "st.title(\"Chat with CSV File\")\n",
    "\n",
    "session = boto3.session.Session()\n",
    "region_name = session.region_name\n",
    "bedrock_client = boto3.client('bedrock-agent-runtime')\n",
    "\n",
    "# Initialize conversation history if not present\n",
    "if 'conversation_history' not in st.session_state:\n",
    "    st.session_state.conversation_history = []\n",
    "\n",
    "user_input = st.text_input(\"You: \")\n",
    "\n",
    "if st.button(\"Send\") :\n",
    "\n",
    "    csv_file_name = \"claimdata.csv\"\n",
    "    response = query_csv(f\"SampleData/{csv_file_name}\",user_input,st.session_state.conversation_history)\n",
    "\n",
    "    print(\"Response is : \" + response)\n",
    "\n",
    "    display_text =  response\n",
    "\n",
    "    # Insert the response at the beginning of the conversation history\n",
    "    st.session_state.conversation_history.insert(0, (\"Assistant\", f\"<div class='response'>{display_text}</div>\"))\n",
    "    st.session_state.conversation_history.insert(0, (\"You\", user_input))\n",
    "\n",
    "    # Display conversation history\n",
    "    for speaker, text in st.session_state.conversation_history:\n",
    "        if speaker == \"You\":\n",
    "            st.markdown(user_template.replace(\"{{MSG}}\", text), unsafe_allow_html=True)\n",
    "        else:\n",
    "            st.markdown(bot_template.replace(\"{{MSG}}\", text), unsafe_allow_html=True)\n"
   ]
  },
  {
   "cell_type": "markdown",
   "metadata": {},
   "source": [
    "In the Cloud9 environment, copy the following code in querycsv.py file."
   ]
  },
  {
   "cell_type": "markdown",
   "metadata": {},
   "source": [
    "import boto3\n",
    "import pprint\n",
    "from botocore.client import Config\n",
    "import json\n",
    "import argparse\n",
    "import pandas as pd\n",
    "import re\n",
    "import sys\n",
    "from io import StringIO\n",
    "import contextlib\n",
    "from contextlib import redirect_stdout\n",
    "\n",
    "\n",
    "pp = pprint.PrettyPrinter(indent=4)\n",
    "\n",
    "def get_bedrock_client():\n",
    "    session = boto3.session.Session()\n",
    "    region = session.region_name\n",
    "    bedrock_config = Config(connect_timeout=120, read_timeout=120, retries={'max_attempts': 0})\n",
    "    bedrock_client = boto3.client('bedrock-runtime', \n",
    "                                  region_name = region)\n",
    "    \n",
    "    return bedrock_client\n",
    "\n",
    "def invoke_claude_llm(bedrock_client,\n",
    "                      messages,\n",
    "                      modelId ='anthropic.claude-instant-v1',\n",
    "                      accept = 'application/json',\n",
    "                      contentType = 'application/json',\n",
    "                      max_tokens = 4096,\n",
    "                      temperature = 0,\n",
    "                     ):\n",
    "\n",
    "    payload = json.dumps({\n",
    "    \"anthropic_version\": \"bedrock-2023-05-31\",\n",
    "    \"max_tokens\": max_tokens,\n",
    "    \"temperature\": temperature,\n",
    "    \"top_p\": 0,\n",
    "    \"messages\": messages})\n",
    "    \n",
    "    response = bedrock_client.invoke_model(\n",
    "        body=payload, \n",
    "        modelId=modelId, \n",
    "        accept=accept, \n",
    "        contentType=contentType)\n",
    "    \n",
    "    response_body = json.loads(response.get('body').read())\n",
    "    response_text = response_body.get('content')\n",
    "    \n",
    "    return response_text\n",
    "\n",
    "def get_text_payload(text=None):\n",
    "    content=None\n",
    "    if text.strip():\n",
    "        content = {\n",
    "        \"type\":\"text\",\n",
    "        \"text\": text.strip()\n",
    "        }\n",
    "    return content\n",
    "\n",
    "def create_claude_message(prompt):\n",
    "    \n",
    "    messages = [\n",
    "                { \"role\":\"user\", \n",
    "                  \"content\":prompt\n",
    "                }]\n",
    "    return messages\n",
    "\n",
    "bedrock_client = get_bedrock_client()\n",
    "\n",
    "SystemPromptTemplate = \"\"\"\n",
    "<Instructions>\n",
    "You are an expert programmer in Python and use the Pandas library to create programs to process CSV files and extract the data corresponding to user question. You can only answer with an executable Python program which you always put inside the tags <code></code>. \n",
    "Avoid comments and do not explain the code. The output of the program should be human readable and using markdown formatting when possible.\n",
    "\n",
    "You have been give data in the file {file} with the following fields: {fields}\n",
    "\n",
    "Answer the <question> using the data provided in above file  \n",
    "\n",
    "</Instructions>\n",
    "\n",
    "<question>\n",
    "{question}\n",
    "</question>\n",
    "\"\"\"\n",
    "\n",
    "def gen_program(csvfile, question, history=\"\"):\n",
    "\n",
    "    data = pd.read_csv(csvfile).sample(n=10)\n",
    "\n",
    "    fdata = data.dtypes.to_string()\n",
    "    fdata = fdata.replace(\"object\", \"str\")\n",
    "    fdata = fdata + \"\\n\" + data.head(2).to_string()\n",
    "    \n",
    "    prompt = SystemPromptTemplate.format( \n",
    "                                            file=csvfile,\n",
    "                                            # fields=\"\\n\".join(list(data.columns)),\n",
    "                                            fields=\"\\n\" + fdata,\n",
    "                                            question= question\n",
    "                                        )\n",
    "    \n",
    "    prompt = prompt + \"\\n Please consider following chat history for the context : \" + \"\\n\" + str(history)\n",
    "                            \n",
    "    messages = create_claude_message(prompt)\n",
    "    resp = invoke_claude_llm(bedrock_client,messages)\n",
    "    resp = resp[0]['text']\n",
    "    \n",
    "    return f'```py\\n{re.search(r\"<code>(.*)</code>\", resp, re.MULTILINE | re.DOTALL).groups(0)[0]}\\n```'\n",
    "    \n",
    "def query_csv(csvfile, question, history=\"\"):\n",
    "    pythoncode = gen_program(csvfile, question, history)\n",
    "    pythoncode = \"\\n\".join(pythoncode.split(\"\\n\")[1:-1])\n",
    "\n",
    "    print(\"### Pythoncode ##\")\n",
    "    print(pythoncode)\n",
    "\n",
    "    print(\"### LLM Response ##\")\n",
    "    content = \"Sorry, I have not been able to answer your question. Would you mind trying again?\"\n",
    "\n",
    "    try:\n",
    "        stdout = StringIO()\n",
    "        _locals = locals()\n",
    "        with redirect_stdout(stdout):\n",
    "           exec(pythoncode, globals(), _locals)\n",
    "        content = stdout.getvalue()\n",
    "\n",
    "    except Exception as ex:\n",
    "        print(ex)\n",
    "\n",
    "    return content\n",
    "\n",
    "\n",
    "if __name__ == \"__main__\":\n",
    "    # Accept the argument from command line\n",
    "    parser = argparse.ArgumentParser()\n",
    "    parser.add_argument(\"--file\", type=str, required=True)\n",
    "    parser.add_argument(\"--question\", type=str, default=\"How Many Rows are there?\")\n",
    "    \n",
    "    args = parser.parse_args()\n",
    "    \n",
    "    if args.file:\n",
    "        csvfile = args.file\n",
    "    if args.question:\n",
    "        question = args.question\n",
    "    \n",
    "    content = query_csv(csvfile, question)\n",
    "    print(content)\n"
   ]
  },
  {
   "cell_type": "markdown",
   "metadata": {},
   "source": [
    "In the Cloud9 terminal, run the following command to run the Streamlit app.\n"
   ]
  },
  {
   "cell_type": "markdown",
   "metadata": {},
   "source": [
    "<!-- streamlit run app.py -->\n"
   ]
  },
  {
   "cell_type": "markdown",
   "metadata": {},
   "source": []
  }
 ],
 "metadata": {
  "language_info": {
   "name": "python"
  }
 },
 "nbformat": 4,
 "nbformat_minor": 2
}
